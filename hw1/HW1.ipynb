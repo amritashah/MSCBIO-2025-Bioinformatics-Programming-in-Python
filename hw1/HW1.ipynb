{
 "cells": [
  {
   "cell_type": "markdown",
   "id": "107c8adb-9527-4cad-970b-5b0628869811",
   "metadata": {},
   "source": [
    "#### assign-50.sh"
   ]
  },
  {
   "cell_type": "code",
   "execution_count": 14,
   "id": "647d54fc-60a9-433b-82b3-47a9bcc55cb4",
   "metadata": {},
   "outputs": [],
   "source": [
    "%%bash\n",
    "echo \"#!/bin/bash\" > assign-50.sh\n",
    "echo \"echo \\$1\" >> assign-50.sh"
   ]
  },
  {
   "cell_type": "code",
   "execution_count": 15,
   "id": "8e4a6bc9-ed3f-45e1-bbc7-202e0cc8d91e",
   "metadata": {},
   "outputs": [],
   "source": [
    "%%bash\n",
    "chmod +x assign-50.sh"
   ]
  },
  {
   "cell_type": "code",
   "execution_count": 16,
   "id": "24c79572-bfaf-4d9b-9050-4f3dc8643882",
   "metadata": {},
   "outputs": [
    {
     "name": "stdout",
     "output_type": "stream",
     "text": [
      "hello\n"
     ]
    }
   ],
   "source": [
    "%%bash\n",
    "./assign-50.sh hello world"
   ]
  },
  {
   "cell_type": "code",
   "execution_count": 17,
   "id": "90e1a1ef-8fc4-4bdd-8b7c-4abd2c438d42",
   "metadata": {},
   "outputs": [
    {
     "name": "stdout",
     "output_type": "stream",
     "text": [
      "good\n"
     ]
    }
   ],
   "source": [
    "%%bash\n",
    "./assign-50.sh good"
   ]
  },
  {
   "cell_type": "code",
   "execution_count": 18,
   "id": "58fe2ecd-d81d-4055-8c0e-ea7dd2552b7d",
   "metadata": {},
   "outputs": [
    {
     "name": "stdout",
     "output_type": "stream",
     "text": [
      "\n"
     ]
    }
   ],
   "source": [
    "%%bash\n",
    "./assign-50.sh"
   ]
  },
  {
   "cell_type": "markdown",
   "id": "394fa0d6-f57e-4458-a73b-887184c1559e",
   "metadata": {},
   "source": [
    "#### assign-30.sh"
   ]
  },
  {
   "cell_type": "code",
   "execution_count": 26,
   "id": "104f3f30-3ef0-43b5-8cbf-c9c872d5dbf2",
   "metadata": {},
   "outputs": [],
   "source": [
    "%%bash\n",
    "echo \"#!/bin/bash\" > assign-30.sh\n",
    "echo \"head -n 1 \\$1\" >> assign-30.sh\n",
    "chmod +x assign-30.sh"
   ]
  },
  {
   "cell_type": "code",
   "execution_count": 20,
   "id": "51aa243c-aafa-4738-86cf-7ee1b3ed0303",
   "metadata": {},
   "outputs": [
    {
     "name": "stdout",
     "output_type": "stream",
     "text": [
      "Hello\n"
     ]
    }
   ],
   "source": [
    "%%bash\n",
    "./assign-30.sh h.txt"
   ]
  },
  {
   "cell_type": "code",
   "execution_count": 27,
   "id": "0ae5b3ba-84f6-4595-a05c-5266a1c059b6",
   "metadata": {},
   "outputs": [
    {
     "name": "stdout",
     "output_type": "stream",
     "text": [
      "Hello world\n"
     ]
    }
   ],
   "source": [
    "%%bash\n",
    "./assign-30.sh hello.txt"
   ]
  },
  {
   "cell_type": "markdown",
   "id": "4dd6814a-f6c2-4458-ac4c-f23a539073d8",
   "metadata": {},
   "source": [
    "#### assign-15.sh"
   ]
  },
  {
   "cell_type": "code",
   "execution_count": 38,
   "id": "3e179edf-8b16-49d3-8182-5aba26e2309c",
   "metadata": {},
   "outputs": [],
   "source": [
    "%%bash\n",
    "echo \"#!/bin/bash\" > assign-15.sh\n",
    "echo \"awk -F',' '{print \\$1}' \\$1\" >> assign-15.sh\n",
    "chmod +x assign-15.sh"
   ]
  },
  {
   "cell_type": "code",
   "execution_count": 48,
   "id": "b9503334-c952-460d-9876-673181521dbd",
   "metadata": {},
   "outputs": [
    {
     "name": "stdout",
     "output_type": "stream",
     "text": [
      "abc,1,2,3\n",
      "abc,3,3,3\n",
      "xyz,3,2,1\n",
      "xyz,3,2,3\n",
      "ijk,0,0,0\n",
      "xyz,1,1,1\n"
     ]
    }
   ],
   "source": [
    "!echo \"abc,1,2,3\" > LetNum\n",
    "!echo \"abc,3,3,3\" >> LetNum\n",
    "!echo \"xyz,3,2,1\" >> LetNum\n",
    "!echo \"xyz,3,2,3\" >> LetNum\n",
    "!echo \"ijk,0,0,0\" >> LetNum\n",
    "!echo \"xyz,1,1,1\" >> LetNum\n",
    "!cat LetNum"
   ]
  },
  {
   "cell_type": "code",
   "execution_count": 49,
   "id": "020ebbfb-499b-44ad-8822-88319d14dccf",
   "metadata": {},
   "outputs": [
    {
     "name": "stdout",
     "output_type": "stream",
     "text": [
      "abc\n",
      "abc\n",
      "xyz\n",
      "xyz\n",
      "ijk\n",
      "xyz\n"
     ]
    }
   ],
   "source": [
    "%%bash\n",
    "./assign-15.sh LetNum"
   ]
  },
  {
   "cell_type": "markdown",
   "id": "74c527ac-919a-4234-a124-018466cd580c",
   "metadata": {},
   "source": [
    "#### assign-05.sh"
   ]
  },
  {
   "cell_type": "code",
   "execution_count": 66,
   "id": "741ec53c-344c-4c62-af57-88fdc094cc5d",
   "metadata": {},
   "outputs": [],
   "source": [
    "%%bash\n",
    "echo \"#!/bin/bash\" > assign-05.sh\n",
    "echo \"awk -F',' '{print \\$1}' \\$1 | sort | uniq -c | sort -n\" >> assign-05.sh\n",
    "chmod +x assign-05.sh"
   ]
  },
  {
   "cell_type": "code",
   "execution_count": 67,
   "id": "22aa83b3-148d-4f0b-ab7d-ac3fa37378b3",
   "metadata": {},
   "outputs": [
    {
     "name": "stdout",
     "output_type": "stream",
     "text": [
      "      1 ijk\n",
      "      2 abc\n",
      "      3 xyz\n"
     ]
    }
   ],
   "source": [
    "%%bash\n",
    "./assign-05.sh LetNum"
   ]
  },
  {
   "cell_type": "markdown",
   "id": "78f5722f-f13b-4566-bfe7-f9a32498ab91",
   "metadata": {},
   "source": [
    "##### assign-mu.sh - misunderstood 5 but succeeded in what I was trying to do"
   ]
  },
  {
   "cell_type": "code",
   "execution_count": 50,
   "id": "e8ba0891-d575-49dc-99ae-ccdef77bbf45",
   "metadata": {},
   "outputs": [],
   "source": [
    "%%bash\n",
    "echo \"#!/bin/bash\" > assign-mu.sh\n",
    "echo \"awk -F',' '{print \\$2,\\$1}' \\$1 |sort\" >> assign-mu.sh\n",
    "chmod +x assign-mu.sh"
   ]
  },
  {
   "cell_type": "code",
   "execution_count": 51,
   "id": "f8020107-0d7d-4665-b39e-d7c4adbc1947",
   "metadata": {},
   "outputs": [
    {
     "name": "stdout",
     "output_type": "stream",
     "text": [
      "0 ijk\n",
      "1 abc\n",
      "1 xyz\n",
      "3 abc\n",
      "3 xyz\n",
      "3 xyz\n"
     ]
    }
   ],
   "source": [
    "%%bash\n",
    "./assign-mu.sh LetNum"
   ]
  }
 ],
 "metadata": {
  "kernelspec": {
   "display_name": "Python 3 (ipykernel)",
   "language": "python",
   "name": "python3"
  },
  "language_info": {
   "codemirror_mode": {
    "name": "ipython",
    "version": 3
   },
   "file_extension": ".py",
   "mimetype": "text/x-python",
   "name": "python",
   "nbconvert_exporter": "python",
   "pygments_lexer": "ipython3",
   "version": "3.13.5"
  }
 },
 "nbformat": 4,
 "nbformat_minor": 5
}
