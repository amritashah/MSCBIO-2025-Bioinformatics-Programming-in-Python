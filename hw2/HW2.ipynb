{
 "cells": [
  {
   "cell_type": "code",
   "execution_count": 44,
   "id": "34a22cca-ad1a-4dd5-8464-bc00479c0d65",
   "metadata": {},
   "outputs": [],
   "source": [
    "%%bash\n",
    "python3 assign-50.py in.0 outex.50.png"
   ]
  },
  {
   "cell_type": "code",
   "execution_count": 45,
   "id": "3eb0ac97-325c-4431-ab15-8af33cd2bd80",
   "metadata": {},
   "outputs": [],
   "source": [
    "%%bash\n",
    "python3 assign-20.py in.0 outex.20.png"
   ]
  },
  {
   "cell_type": "code",
   "execution_count": 50,
   "id": "b25b88a0-7929-4425-adbf-3f5a7ad9b0aa",
   "metadata": {},
   "outputs": [],
   "source": [
    "%%bash\n",
    "python3 assign-15.py in.0 outex.15.png"
   ]
  },
  {
   "cell_type": "code",
   "execution_count": 47,
   "id": "0f2488ec-f5f3-444f-bcc6-0fb63d405e38",
   "metadata": {},
   "outputs": [],
   "source": [
    "%%bash\n",
    "python3 assign-10.py in.0 in.1 in.2 outex.10.png"
   ]
  },
  {
   "cell_type": "code",
   "execution_count": 49,
   "id": "be7e1a24-9766-4845-8ea6-9fca5f73f588",
   "metadata": {},
   "outputs": [],
   "source": [
    "%%bash\n",
    "python3 assign-05.py mc.0 mc.1 mc.2 outex.05.png"
   ]
  }
 ],
 "metadata": {
  "kernelspec": {
   "display_name": "Python 3 (ipykernel)",
   "language": "python",
   "name": "python3"
  },
  "language_info": {
   "codemirror_mode": {
    "name": "ipython",
    "version": 3
   },
   "file_extension": ".py",
   "mimetype": "text/x-python",
   "name": "python",
   "nbconvert_exporter": "python",
   "pygments_lexer": "ipython3",
   "version": "3.13.7"
  }
 },
 "nbformat": 4,
 "nbformat_minor": 5
}
