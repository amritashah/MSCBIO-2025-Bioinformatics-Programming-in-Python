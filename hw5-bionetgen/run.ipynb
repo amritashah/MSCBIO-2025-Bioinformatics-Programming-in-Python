{
 "cells": [
  {
   "cell_type": "code",
   "execution_count": 72,
   "id": "b3ce95a1",
   "metadata": {},
   "outputs": [
    {
     "name": "stdout",
     "output_type": "stream",
     "text": [
      "NAD: 0 LAC: 0 PYR: 0 PEP: 0 PG2: 0 PG3: 20000\n",
      "NAD: 0 LAC: 0 PYR: 0 PEP: 0 PG2: 0 PG3: 20000\n",
      "NAD: 0 LAC: 0 PYR: 0 PEP: 0 PG2: 0 PG3: 20000\n",
      "NAD: 0 LAC: 0 PYR: 0 PEP: 0 PG2: 0 PG3: 20000\n",
      "NAD: 0 LAC: 0 PYR: 0 PEP: 0 PG2: 0 PG3: 20000\n",
      "NAD: 0 LAC: 0 PYR: 0 PEP: 0 PG2: 0 PG3: 20000\n",
      "NAD: 0 LAC: 0 PYR: 0 PEP: 0 PG2: 0 PG3: 20000\n",
      "NAD: 0 LAC: 0 PYR: 0 PEP: 0 PG2: 0 PG3: 20000\n"
     ]
    }
   ],
   "source": [
    "%%bash\n",
    "python3 assign-50.py"
   ]
  },
  {
   "cell_type": "code",
   "execution_count": 71,
   "id": "81e63269",
   "metadata": {},
   "outputs": [
    {
     "name": "stdout",
     "output_type": "stream",
     "text": [
      "NAD: 0 LAC: 0 PYR: 0 PEP: 0 PG2: 0 PG3: 20000\n",
      "NAD: 0 LAC: 0 PYR: 0 PEP: 0 PG2: 3516 PG3: 16095\n",
      "NAD: 0 LAC: 0 PYR: 0 PEP: 0 PG2: 6595 PG3: 13074\n",
      "NAD: 0 LAC: 0 PYR: 0 PEP: 0 PG2: 9202 PG3: 10519\n",
      "NAD: 0 LAC: 0 PYR: 0 PEP: 0 PG2: 11382 PG3: 8387\n",
      "NAD: 0 LAC: 0 PYR: 0 PEP: 0 PG2: 13179 PG3: 6631\n",
      "NAD: 0 LAC: 0 PYR: 0 PEP: 0 PG2: 14643 PG3: 5204\n",
      "NAD: 0 LAC: 0 PYR: 0 PEP: 0 PG2: 15821 PG3: 4057\n"
     ]
    }
   ],
   "source": [
    "%%bash\n",
    "python3 assign-60.py\n"
   ]
  },
  {
   "cell_type": "code",
   "execution_count": 70,
   "id": "08d30729",
   "metadata": {},
   "outputs": [
    {
     "name": "stdout",
     "output_type": "stream",
     "text": [
      "NAD: 0 LAC: 0 PYR: 0 PEP: 0 PG2: 0 PG3: 20000\n",
      "NAD: 0 LAC: 0 PYR: 0 PEP: 1748 PG2: 1438 PG3: 16095\n",
      "NAD: 0 LAC: 0 PYR: 0 PEP: 4748 PG2: 1497 PG3: 13074\n",
      "NAD: 0 LAC: 0 PYR: 0 PEP: 7586 PG2: 1307 PG3: 10519\n",
      "NAD: 0 LAC: 0 PYR: 0 PEP: 10030 PG2: 1090 PG3: 8387\n",
      "NAD: 0 LAC: 0 PYR: 0 PEP: 12071 PG2: 892 PG3: 6631\n",
      "NAD: 0 LAC: 0 PYR: 0 PEP: 13747 PG2: 720 PG3: 5204\n",
      "NAD: 0 LAC: 0 PYR: 0 PEP: 15104 PG2: 575 PG3: 4057\n"
     ]
    }
   ],
   "source": [
    "%%bash\n",
    "python3 assign-70.py"
   ]
  },
  {
   "cell_type": "code",
   "execution_count": 68,
   "id": "c8c2123d",
   "metadata": {},
   "outputs": [
    {
     "name": "stdout",
     "output_type": "stream",
     "text": [
      "NAD: 0 LAC: 0 PYR: 0 PEP: 0 PG2: 0 PG3: 20000\n",
      "NAD: 0 LAC: 0 PYR: 370 PEP: 1055 PG2: 1438 PG3: 16095\n",
      "NAD: 0 LAC: 0 PYR: 1868 PEP: 2186 PG2: 1497 PG3: 13074\n",
      "NAD: 0 LAC: 0 PYR: 3814 PEP: 2855 PG2: 1307 PG3: 10519\n",
      "NAD: 0 LAC: 0 PYR: 5651 PEP: 3300 PG2: 1090 PG3: 8387\n",
      "NAD: 0 LAC: 0 PYR: 7151 PEP: 3695 PG2: 892 PG3: 6631\n",
      "NAD: 0 LAC: 0 PYR: 8257 PEP: 4118 PG2: 720 PG3: 5204\n",
      "NAD: 0 LAC: 0 PYR: 9003 PEP: 4587 PG2: 575 PG3: 4057\n"
     ]
    }
   ],
   "source": [
    "%%bash\n",
    "python3 assign-80.py"
   ]
  },
  {
   "cell_type": "code",
   "execution_count": 69,
   "id": "25639218",
   "metadata": {},
   "outputs": [
    {
     "name": "stdout",
     "output_type": "stream",
     "text": [
      "NAD: 0 LAC: 0 PYR: 0 PEP: 0 PG2: 0 PG3: 20000\n",
      "NAD: 5 LAC: 5 PYR: 342 PEP: 1055 PG2: 1438 PG3: 16095\n",
      "NAD: 71 LAC: 71 PYR: 1676 PEP: 2186 PG2: 1497 PG3: 13074\n",
      "NAD: 227 LAC: 227 PYR: 3360 PEP: 2855 PG2: 1307 PG3: 10519\n",
      "NAD: 439 LAC: 439 PYR: 4906 PEP: 3300 PG2: 1090 PG3: 8387\n",
      "NAD: 669 LAC: 669 PYR: 6122 PEP: 3695 PG2: 892 PG3: 6631\n",
      "NAD: 888 LAC: 888 PYR: 6975 PEP: 4118 PG2: 720 PG3: 5204\n",
      "NAD: 1084 LAC: 1084 PYR: 7504 PEP: 4587 PG2: 575 PG3: 4057\n"
     ]
    }
   ],
   "source": [
    "%%bash\n",
    "python3 assign-90.py"
   ]
  },
  {
   "cell_type": "code",
   "execution_count": 107,
   "id": "15406e22",
   "metadata": {},
   "outputs": [
    {
     "name": "stdout",
     "output_type": "stream",
     "text": [
      "NAD: 0 LAC: 0 PYR: 0 PEP: 0 PG2: 0 PG3: 20000\n",
      "NAD: 5 LAC: 5 PYR: 342 PEP: 1055 PG2: 1438 PG3: 16095\n",
      "NAD: 66 LAC: 66 PYR: 1677 PEP: 2186 PG2: 1497 PG3: 13074\n",
      "NAD: 207 LAC: 209 PYR: 3367 PEP: 2855 PG2: 1307 PG3: 10519\n",
      "NAD: 394 LAC: 401 PYR: 4926 PEP: 3300 PG2: 1090 PG3: 8387\n",
      "NAD: 589 LAC: 602 PYR: 6165 PEP: 3695 PG2: 892 PG3: 6631\n",
      "NAD: 768 LAC: 788 PYR: 7046 PEP: 4118 PG2: 720 PG3: 5204\n",
      "NAD: 923 LAC: 949 PYR: 7606 PEP: 4587 PG2: 575 PG3: 4057\n"
     ]
    }
   ],
   "source": [
    "%%bash\n",
    "python3 assign-100.py"
   ]
  },
  {
   "cell_type": "code",
   "execution_count": 95,
   "id": "f88acd61",
   "metadata": {},
   "outputs": [
    {
     "name": "stdout",
     "output_type": "stream",
     "text": [
      "NAD: 0 LAC: 0 PYR: 0 PEP: 0 PG2: 0 PG3: 20000\n",
      "NAD: 9 LAC: 9 PYR: 334 PEP: 1055 PG2: 1438 PG3: 16095\n",
      "NAD: 107 LAC: 107 PYR: 1627 PEP: 2186 PG2: 1497 PG3: 13074\n",
      "NAD: 325 LAC: 325 PYR: 3244 PEP: 2855 PG2: 1307 PG3: 10519\n",
      "NAD: 596 LAC: 596 PYR: 4730 PEP: 3300 PG2: 1090 PG3: 8387\n",
      "NAD: 858 LAC: 858 PYR: 5917 PEP: 3695 PG2: 892 PG3: 6631\n",
      "NAD: 1078 LAC: 1078 PYR: 6770 PEP: 4118 PG2: 720 PG3: 5204\n",
      "NAD: 1249 LAC: 1249 PYR: 7325 PEP: 4587 PG2: 575 PG3: 4057\n"
     ]
    }
   ],
   "source": [
    "%%bash\n",
    "python3 assign-100-cp.py"
   ]
  },
  {
   "cell_type": "code",
   "execution_count": null,
   "id": "ade1aba8",
   "metadata": {},
   "outputs": [],
   "source": []
  }
 ],
 "metadata": {
  "kernelspec": {
   "display_name": "bioinfo",
   "language": "python",
   "name": "python3"
  },
  "language_info": {
   "codemirror_mode": {
    "name": "ipython",
    "version": 3
   },
   "file_extension": ".py",
   "mimetype": "text/x-python",
   "name": "python",
   "nbconvert_exporter": "python",
   "pygments_lexer": "ipython3",
   "version": "3.13.7"
  }
 },
 "nbformat": 4,
 "nbformat_minor": 5
}
