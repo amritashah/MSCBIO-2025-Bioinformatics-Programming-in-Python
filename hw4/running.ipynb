{
 "cells": [
  {
   "cell_type": "code",
   "execution_count": 30,
   "id": "a2465cd0-cf6d-42eb-bf9b-02f19926082f",
   "metadata": {},
   "outputs": [
    {
     "name": "stdout",
     "output_type": "stream",
     "text": [
      "Linear Fit IC50: 26566.73\n"
     ]
    }
   ],
   "source": [
    "%%bash\n",
    "python3 assign-50.py tox1.txt"
   ]
  },
  {
   "cell_type": "code",
   "execution_count": 47,
   "id": "7089c1f1-3d65-41a8-a6d8-4716eb2a34b3",
   "metadata": {},
   "outputs": [
    {
     "name": "stdout",
     "output_type": "stream",
     "text": [
      "Linear Fit IC50: 2.04\n",
      "LogX-Linear Fit 1C50: 0.13\n"
     ]
    }
   ],
   "source": [
    "%%bash\n",
    "python3 assign-25.py phago.txt"
   ]
  },
  {
   "cell_type": "code",
   "execution_count": 54,
   "id": "aff455c9-f09b-4e4f-b5f5-d8e0e494c728",
   "metadata": {},
   "outputs": [
    {
     "name": "stdout",
     "output_type": "stream",
     "text": [
      "Linear Fit IC50: 2.04\n",
      "LogX-Linear Fit 1C50: 0.13\n",
      "Sigmoid Fit Fixed Slope IC50: 0.12\n",
      "Sigmoid Fit IC50: 0.27\n",
      "Slope: 0.446\n"
     ]
    }
   ],
   "source": [
    "%%bash\n",
    "python3 assign-10.py phago.txt"
   ]
  }
 ],
 "metadata": {
  "kernelspec": {
   "display_name": "Python 3 (ipykernel)",
   "language": "python",
   "name": "python3"
  },
  "language_info": {
   "codemirror_mode": {
    "name": "ipython",
    "version": 3
   },
   "file_extension": ".py",
   "mimetype": "text/x-python",
   "name": "python",
   "nbconvert_exporter": "python",
   "pygments_lexer": "ipython3",
   "version": "3.13.7"
  }
 },
 "nbformat": 4,
 "nbformat_minor": 5
}
