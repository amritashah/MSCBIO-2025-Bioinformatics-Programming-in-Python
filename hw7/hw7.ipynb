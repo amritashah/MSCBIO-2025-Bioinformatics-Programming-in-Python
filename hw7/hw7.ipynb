{
 "cells": [
  {
   "cell_type": "code",
   "execution_count": 71,
   "id": "3fe9de4a-5fdb-457e-b90d-5a4cbbc195ed",
   "metadata": {},
   "outputs": [],
   "source": [
    "from Bio import AlignIO\n",
    "import numpy as np\n",
    "from Bio.Seq import Seq\n",
    "from Bio.SeqRecord import SeqRecord\n",
    "from Bio.Align import MultipleSeqAlignment"
   ]
  },
  {
   "cell_type": "code",
   "execution_count": 7,
   "id": "f01925e4-05e6-4590-bd2f-0a15d6b6234b",
   "metadata": {},
   "outputs": [],
   "source": [
    "ip = 'HIV-p6-gapped.fasta'"
   ]
  },
  {
   "cell_type": "code",
   "execution_count": 8,
   "id": "4b3d7839-d47c-4257-86a9-44f4bb87f97d",
   "metadata": {},
   "outputs": [],
   "source": [
    "records = AlignIO.read(ip, \"fasta\")"
   ]
  },
  {
   "cell_type": "code",
   "execution_count": 9,
   "id": "4f27a60b-3397-40c2-b754-14125dfb2376",
   "metadata": {},
   "outputs": [
    {
     "data": {
      "text/plain": [
       "<<class 'Bio.Align.MultipleSeqAlignment'> instance (5218 records of length 763) at 10ceb81a0>"
      ]
     },
     "execution_count": 9,
     "metadata": {},
     "output_type": "execute_result"
    }
   ],
   "source": [
    "records"
   ]
  },
  {
   "cell_type": "code",
   "execution_count": 10,
   "id": "132dde2c-fc63-4be8-a1b9-38c848ff9017",
   "metadata": {},
   "outputs": [
    {
     "data": {
      "text/plain": [
       "763"
      ]
     },
     "execution_count": 10,
     "metadata": {},
     "output_type": "execute_result"
    }
   ],
   "source": [
    "records.get_alignment_length()"
   ]
  },
  {
   "cell_type": "code",
   "execution_count": 11,
   "id": "f455febb-cf66-4a8a-8f19-1e2d2e1cd4a8",
   "metadata": {},
   "outputs": [
    {
     "data": {
      "text/plain": [
       "5218"
      ]
     },
     "execution_count": 11,
     "metadata": {},
     "output_type": "execute_result"
    }
   ],
   "source": [
    "len(records)"
   ]
  },
  {
   "cell_type": "code",
   "execution_count": 12,
   "id": "b506a7a3-690d-491d-afb2-86db8a852143",
   "metadata": {},
   "outputs": [
    {
     "name": "stdout",
     "output_type": "stream",
     "text": [
      "Alignment with 5218 rows and 763 columns\n",
      "------------------------------------------MG...--- B.FR.83.HXB2_LAI_IIIB_BRU_K03455\n",
      "--------------------------------------------...--- B.FR.83.HXB2_LAI_IIIB_BRU.K03455\n",
      "--------------------------------------------...--- A.CD.87.P4039.MH705157\n",
      "--------------------------------------------...--- A.CH.03.HIV_CH_BID_V3538_2003.JQ403028\n",
      "--------------------------------------------...--- A.ZA.04.04ZASK162B1.DQ396400\n",
      "--------------------------------------------...--- A1.AU.03.PS1044_Day0.DQ676872\n",
      "--------------------------------------------...--- A1.BG.09.V_09_008.MH746258\n",
      "--------------------------------------------...--- A1.BG.09.V_09_017.MH746253\n",
      "--------------------------------------------...--- A1.CD.02.LA01AlPr.KU168256\n",
      "--------------------------------------------...--- A1.CD.87.2106.MH705158\n",
      "--------------------------------------------...--- A1.CD.87.70641.MH705151\n",
      "--------------------------------------------...--- A1.CD.87.PBS6126.MH705153\n",
      "--------------------------------------------...--- A1.CD.87.PBS888.MH705133\n",
      "--------------------------------------------...--- A1.CM.03.CM54_7.KU168305\n",
      "--------------------------------------------...--- A1.CM.06.06CMLPH19C17.MN153491\n",
      "--------------------------------------------...--- A1.CM.07.46_10.KP718918\n",
      "--------------------------------------------...--- A1.CM.08.886_24.KP718928\n",
      "--------------------------------------------...--- A1.CM.11.11CMMDC241.MT349418\n",
      "...\n",
      "--------------------------------------------...--- GOR.CM.13.SIVgor_BPID15.KP004990\n"
     ]
    }
   ],
   "source": [
    "print(records)"
   ]
  },
  {
   "cell_type": "code",
   "execution_count": 34,
   "id": "21fc0b5d-f335-4eed-8866-2e356b9b5d59",
   "metadata": {},
   "outputs": [],
   "source": [
    "ids = [rec.id for rec in records]"
   ]
  },
  {
   "cell_type": "code",
   "execution_count": 22,
   "id": "07d0db16-6070-4883-9ce5-7f3f244abd18",
   "metadata": {},
   "outputs": [],
   "source": [
    "arr = np.array([list(str(rec.seq)) for rec in records])"
   ]
  },
  {
   "cell_type": "code",
   "execution_count": 31,
   "id": "2d15edf5-6c25-4fcb-9eaa-901755ef709e",
   "metadata": {},
   "outputs": [],
   "source": [
    "keep=[]\n",
    "for c in range(arr.shape[1]):\n",
    "    counter=0\n",
    "    for r in range(arr.shape[0]):\n",
    "        if arr[r,c]=='-':\n",
    "            counter+=1\n",
    "    if counter<0.67*arr.shape[0]:\n",
    "        keep.append(c)"
   ]
  },
  {
   "cell_type": "code",
   "execution_count": 45,
   "id": "818c2390-3b0d-4464-a131-811c8a47eb4b",
   "metadata": {},
   "outputs": [],
   "source": [
    "new_records=[]\n",
    "for rec in records:\n",
    "    new_seq = ''.join(rec[i] for i in keep)\n",
    "    new_item= SeqRecord(Seq(new_seq), id=rec.id, description=rec.description)\n",
    "    new_records.append(new_item)"
   ]
  },
  {
   "cell_type": "code",
   "execution_count": 48,
   "id": "ca8c15f8-209c-475b-920c-29fd31a294fb",
   "metadata": {},
   "outputs": [
    {
     "data": {
      "text/plain": [
       "1"
      ]
     },
     "execution_count": 48,
     "metadata": {},
     "output_type": "execute_result"
    }
   ],
   "source": [
    "filtered_alignment = MultipleSeqAlignment(new_records)\n",
    "AlignIO.write(filtered_alignment, 'op.fasta', \"fasta\")"
   ]
  },
  {
   "cell_type": "code",
   "execution_count": 50,
   "id": "0ffb6156-f3a7-4748-9242-230659aea36c",
   "metadata": {},
   "outputs": [],
   "source": [
    "from Bio.Align import AlignInfo"
   ]
  },
  {
   "cell_type": "code",
   "execution_count": 72,
   "id": "0135bcd4-9ea8-4d18-ab7d-ea8bccf67c63",
   "metadata": {},
   "outputs": [],
   "source": [
    "msa = AlignIO.read('op.fasta', \"fasta\")"
   ]
  },
  {
   "cell_type": "code",
   "execution_count": 55,
   "id": "42591ad2-cc32-4757-a2b3-74c565dd41bb",
   "metadata": {},
   "outputs": [],
   "source": [
    "summary_align = AlignInfo.SummaryInfo(msa)"
   ]
  },
  {
   "cell_type": "code",
   "execution_count": 62,
   "id": "8221b253-5308-4a50-b928-e00ed24f8cee",
   "metadata": {},
   "outputs": [
    {
     "data": {
      "text/plain": [
       "Seq('LQSRPEPTAPPAESFRFGEETTTPSQKQEQKDKELYPLTSLKSLFGNDPLSQ*')"
      ]
     },
     "execution_count": 62,
     "metadata": {},
     "output_type": "execute_result"
    }
   ],
   "source": [
    "consensus = summary_align.dumb_consensus(threshold=0.0, ambiguous='-', require_multiple=1)\n",
    "consensus"
   ]
  },
  {
   "cell_type": "code",
   "execution_count": 70,
   "id": "d7f0e360-8055-4f83-9030-e888c3af15ae",
   "metadata": {},
   "outputs": [],
   "source": [
    "from Bio import AlignIO\n",
    "from Bio.Align import MultipleSeqAlignment\n",
    "from collections import Counter"
   ]
  },
  {
   "cell_type": "code",
   "execution_count": 69,
   "id": "2d368b35-c899-402c-8816-4bec7a4460ef",
   "metadata": {},
   "outputs": [
    {
     "name": "stdout",
     "output_type": "stream",
     "text": [
      "LQSRPEPTAPPAESFRFGEET-TPSQKQEQKDKELYPLTSLKSLFGNDPLSQ*\n"
     ]
    }
   ],
   "source": [
    "con_chars = []\n",
    "for i in range(msa.get_alignment_length()):\n",
    "    col = [rec.seq[i] for rec in msa]\n",
    "    counts = Counter(col)\n",
    "    con_res = counts.most_common(1)[0][0]\n",
    "    con_chars.append(con_res)\n",
    "\n",
    "consensus_sequence = ''.join(con_chars)\n",
    "print(consensus_sequence)"
   ]
  },
  {
   "cell_type": "code",
   "execution_count": 79,
   "id": "cee2e815-4936-4905-861a-58876a3e5779",
   "metadata": {},
   "outputs": [
    {
     "name": "stdout",
     "output_type": "stream",
     "text": [
      "LQSRPEPTAPPEESFRSGVETTTPPQKQEPIDKELYPLTSLRSLFGNDPSSQ*\n"
     ]
    }
   ],
   "source": [
    "for rec in msa:\n",
    "    print(rec.seq)\n",
    "    ct = rec.seq.find(ss)\n",
    "    break"
   ]
  },
  {
   "cell_type": "code",
   "execution_count": 81,
   "id": "66852629-c75f-467c-9ca7-8a5f8ad60abb",
   "metadata": {},
   "outputs": [
    {
     "data": {
      "text/plain": [
       "True"
      ]
     },
     "execution_count": 81,
     "metadata": {},
     "output_type": "execute_result"
    }
   ],
   "source": [
    "ct != -1"
   ]
  },
  {
   "cell_type": "code",
   "execution_count": 85,
   "id": "133e5fbe-6b7f-4fa1-9d46-43317bcaffed",
   "metadata": {},
   "outputs": [],
   "source": [
    "ss = 'KELYPLASL'"
   ]
  },
  {
   "cell_type": "code",
   "execution_count": 82,
   "id": "732482d3-8f77-4a79-9220-088ba86cbf0f",
   "metadata": {},
   "outputs": [
    {
     "data": {
      "text/plain": [
       "5218"
      ]
     },
     "execution_count": 82,
     "metadata": {},
     "output_type": "execute_result"
    }
   ],
   "source": [
    "len(msa)"
   ]
  },
  {
   "cell_type": "code",
   "execution_count": 86,
   "id": "000b66de-b2b4-48f2-bcd0-ea7e4d86b6f0",
   "metadata": {},
   "outputs": [
    {
     "name": "stdout",
     "output_type": "stream",
     "text": [
      "0.12916826370256804\n"
     ]
    }
   ],
   "source": [
    "count = 0\n",
    "for rec in msa:\n",
    "    if rec.seq.find(ss) != -1:\n",
    "        count+=1\n",
    "print(count/len(msa))"
   ]
  },
  {
   "cell_type": "code",
   "execution_count": 87,
   "id": "c12f8787-f4e6-4832-a3d2-d7d9177dab3d",
   "metadata": {},
   "outputs": [],
   "source": [
    "ss = 'LQSRPEPTAPPAESFSFGEETATPAQKQEPIDQEKYPLTALKSLFGNDPLSQ*'"
   ]
  },
  {
   "cell_type": "code",
   "execution_count": 88,
   "id": "b74eae99-8d4c-43f4-ba94-e32cbbc54b9f",
   "metadata": {},
   "outputs": [],
   "source": [
    "ssl = list(ss)\n",
    "sims = []\n",
    "for rec in msa:\n",
    "    y = [s==r for s,r in zip(ssl, list(str(rec.seq)))]\n",
    "    sims.append(sum(y))"
   ]
  },
  {
   "cell_type": "code",
   "execution_count": 90,
   "id": "c3d05605-c15f-42fd-8da0-4f030bd6381a",
   "metadata": {},
   "outputs": [
    {
     "data": {
      "text/plain": [
       "5218"
      ]
     },
     "execution_count": 90,
     "metadata": {},
     "output_type": "execute_result"
    }
   ],
   "source": [
    "len(sims)"
   ]
  },
  {
   "cell_type": "code",
   "execution_count": 124,
   "id": "ccf4053a-1626-44d3-99b6-8b5aae0cd7f2",
   "metadata": {},
   "outputs": [],
   "source": [
    "high = np.argsort(sims)[::-1]"
   ]
  },
  {
   "cell_type": "code",
   "execution_count": 125,
   "id": "1112ba48-73d7-4fbf-b246-5f6f5a08a098",
   "metadata": {},
   "outputs": [
    {
     "data": {
      "text/plain": [
       "array([ 363, 1735, 3627, ..., 5204, 5209, 5190], shape=(5218,))"
      ]
     },
     "execution_count": 125,
     "metadata": {},
     "output_type": "execute_result"
    }
   ],
   "source": [
    "high"
   ]
  },
  {
   "cell_type": "code",
   "execution_count": 127,
   "id": "54689020-78e8-45c0-8aeb-b0ca8dfaf8a3",
   "metadata": {},
   "outputs": [
    {
     "data": {
      "text/plain": [
       "[363, 1735, 3627]"
      ]
     },
     "execution_count": 127,
     "metadata": {},
     "output_type": "execute_result"
    }
   ],
   "source": [
    "h"
   ]
  },
  {
   "cell_type": "code",
   "execution_count": 126,
   "id": "8021a16c-2c2f-4561-84c4-cd570d8cc488",
   "metadata": {},
   "outputs": [],
   "source": [
    "h = [int(ind) for ind in high[:3]]"
   ]
  },
  {
   "cell_type": "code",
   "execution_count": 128,
   "id": "dcb9cc3a-25c7-4170-9417-6a0d83c1a8af",
   "metadata": {},
   "outputs": [
    {
     "name": "stdout",
     "output_type": "stream",
     "text": [
      "LQSRPEPTAPPAESFSFGGETTTPAQKQEPIDQEKYPLTALKSLFGNDPLSQ*\n",
      "LQSRPEPTAPPAESFRFGEETATPAQKQEPIDKELYPLTSLKSLFGNDPSSQ*\n",
      "LQSRPEPTAPPAESFRFGEETTTPSQKQEPIDKELYPLTSLKSLFGNDPLSQ*\n"
     ]
    }
   ],
   "source": [
    "for i in h:\n",
    "    print(msa[i].seq)"
   ]
  },
  {
   "cell_type": "code",
   "execution_count": 132,
   "id": "96315720-5a9a-4472-8bb6-837ec40793f4",
   "metadata": {},
   "outputs": [
    {
     "name": "stdout",
     "output_type": "stream",
     "text": [
      "0.12916826370256804\n"
     ]
    }
   ],
   "source": [
    "%%bash\n",
    "python3 epitope-fraction.py op.fasta KELYPLASL"
   ]
  },
  {
   "cell_type": "code",
   "execution_count": 167,
   "id": "636ca704-1e78-4d1a-aa84-ca6957b4a645",
   "metadata": {},
   "outputs": [],
   "source": [
    "ss = 'PQSRPEPSAPPAENFGMGEEI-TPSLKQEQKNREQPPSISLKSLFGNDPLSQ*'\n",
    "ssl = list(ss)"
   ]
  },
  {
   "cell_type": "code",
   "execution_count": 195,
   "id": "368d25d3-b97a-4394-bf58-69116323cdb0",
   "metadata": {},
   "outputs": [
    {
     "name": "stdout",
     "output_type": "stream",
     "text": [
      "03_A6B\n"
     ]
    }
   ],
   "source": [
    "msa = AlignIO.read('op.fasta', \"fasta\")\n",
    "\n",
    "groupedseqs = defaultdict(list)               # dictionary w lists as vals\n",
    "for rec in msa:                               # for each record in msa\n",
    "    subtype = (rec.id).split('.')[0]          # split each record id by . and take first item (subtype str)\n",
    "    groupedseqs[subtype].append(rec)          # append that record to list under dictionary key for the subtype\n",
    "    \n",
    "mean_diffs = {}                              # empty dict\n",
    "\n",
    "for subtype, records in groupedseqs.items():  # iter. thru subtypes, records in dict of subtype:records, where records is a list\n",
    "    matches=[]                                # init. matches list\n",
    "    for val in records:                       # for each record in the list\n",
    "        m = [s==r for s,r in zip(ssl, list(str(val.seq)))]   # dist = list of booleans saying if each char in rec.seq is diff. from char in ss\n",
    "        matches.append(sum(m))                # add dist for each seq under that subtype to distance list.\n",
    "    mean_diffs[subtype] = np.mean(matches)    # calculate mean of the distances list: total dist across seqs/# of seqs\n",
    "sortdiffs = sorted(mean_diffs.items(), key=lambda x: x[1], reverse=True) # sort the dict via index [1] of (subtype,mean) tuples, descending. \n",
    "                                              # key here is arg for the method of sorting, not dict key\n",
    "print(sortdiffs[0][0])"
   ]
  },
  {
   "cell_type": "code",
   "execution_count": 197,
   "id": "51d8fa9f-74e3-4c9f-a42c-3107b072d47c",
   "metadata": {},
   "outputs": [
    {
     "data": {
      "text/plain": [
       "[('03_A6B', np.float64(48.5)),\n",
       " ('A6', np.float64(46.91150442477876)),\n",
       " ('22A1U', np.float64(45.0)),\n",
       " ('AJ', np.float64(45.0)),\n",
       " ('100_01C', np.float64(44.666666666666664)),\n",
       " ('115_01C', np.float64(44.0)),\n",
       " ('A1DHK', np.float64(44.0)),\n",
       " ('A3', np.float64(43.333333333333336)),\n",
       " ('52_01B', np.float64(43.333333333333336)),\n",
       " ('22_01A1', np.float64(43.27272727272727)),\n",
       " ('45_cpx', np.float64(43.0)),\n",
       " ('59_01B', np.float64(43.0)),\n",
       " ('A6B', np.float64(42.666666666666664)),\n",
       " ('AU', np.float64(42.666666666666664)),\n",
       " ('68_01B', np.float64(42.0)),\n",
       " ('102_0107', np.float64(42.0)),\n",
       " ('149_01B', np.float64(42.0)),\n",
       " ('01ADF2', np.float64(42.0)),\n",
       " ('103_01B', np.float64(41.857142857142854)),\n",
       " ('79_0107', np.float64(41.666666666666664)),\n",
       " ('01_AE', np.float64(41.39959016393443)),\n",
       " ('35_A1D', np.float64(41.26315789473684)),\n",
       " ('67_01B', np.float64(41.0)),\n",
       " ('80_0107', np.float64(41.0)),\n",
       " ('81_cpx', np.float64(41.0)),\n",
       " ('114_0155', np.float64(41.0)),\n",
       " ('0102', np.float64(41.0)),\n",
       " ('01G', np.float64(41.0)),\n",
       " ('22DU', np.float64(41.0)),\n",
       " ('26C', np.float64(41.0)),\n",
       " ('ADU', np.float64(41.0)),\n",
       " ('A', np.float64(40.666666666666664)),\n",
       " ('A1A2D', np.float64(40.666666666666664)),\n",
       " ('15_01B', np.float64(40.625)),\n",
       " ('09_cpx', np.float64(40.6)),\n",
       " ('05_DF', np.float64(40.5)),\n",
       " ('A1', np.float64(40.286343612334804)),\n",
       " ('55_01B', np.float64(40.25)),\n",
       " ('K', np.float64(40.0)),\n",
       " ('10_CD', np.float64(40.0)),\n",
       " ('41_CD', np.float64(40.0)),\n",
       " ('112_01B', np.float64(40.0)),\n",
       " ('125_0107', np.float64(40.0)),\n",
       " ('130_A1B', np.float64(40.0)),\n",
       " ('01A1', np.float64(40.0)),\n",
       " ('A1A2CD', np.float64(40.0)),\n",
       " ('A1DK', np.float64(40.0)),\n",
       " ('A1K', np.float64(40.0)),\n",
       " ('A3F2', np.float64(40.0)),\n",
       " ('DF1', np.float64(40.0)),\n",
       " ('DJ', np.float64(40.0)),\n",
       " ('26_A5U', np.float64(39.75)),\n",
       " ('A1D', np.float64(39.74782608695652)),\n",
       " ('21_A2D', np.float64(39.666666666666664)),\n",
       " ('A2', np.float64(39.5)),\n",
       " ('131_A1B', np.float64(39.5)),\n",
       " ('63A6', np.float64(39.5)),\n",
       " ('113_0107', np.float64(39.333333333333336)),\n",
       " ('19_cpx', np.float64(39.2)),\n",
       " ('01C', np.float64(39.18181818181818)),\n",
       " ('0209', np.float64(39.166666666666664)),\n",
       " ('16_A2D', np.float64(39.0)),\n",
       " ('123_0107', np.float64(39.0)),\n",
       " ('06A1', np.float64(39.0)),\n",
       " ('A1A2', np.float64(39.0)),\n",
       " ('A1H', np.float64(39.0)),\n",
       " ('AB', np.float64(39.0)),\n",
       " ('ACD', np.float64(39.0)),\n",
       " ('AHJU', np.float64(39.0)),\n",
       " ('D', np.float64(38.93846153846154)),\n",
       " ('F2', np.float64(38.92307692307692)),\n",
       " ('101_01B', np.float64(38.666666666666664)),\n",
       " ('A8', np.float64(38.5)),\n",
       " ('0102A1', np.float64(38.5)),\n",
       " ('AF2', np.float64(38.5)),\n",
       " ('A7', np.float64(38.333333333333336)),\n",
       " ('H', np.float64(38.3)),\n",
       " ('108_BC', np.float64(38.25)),\n",
       " ('12_BF', np.float64(38.22222222222222)),\n",
       " ('02D', np.float64(38.2)),\n",
       " ('38_BF1', np.float64(38.0)),\n",
       " ('42_BF1', np.float64(38.0)),\n",
       " ('50_A1D', np.float64(38.0)),\n",
       " ('84_A1D', np.float64(38.0)),\n",
       " ('119_0107', np.float64(38.0)),\n",
       " ('147_A6B', np.float64(38.0)),\n",
       " ('01D', np.float64(38.0)),\n",
       " ('0206', np.float64(38.0)),\n",
       " ('0213', np.float64(38.0)),\n",
       " ('02F2G', np.float64(38.0)),\n",
       " ('02F2U', np.float64(38.0)),\n",
       " ('1819', np.float64(38.0)),\n",
       " ('A1CDG', np.float64(38.0)),\n",
       " ('A1CG', np.float64(38.0)),\n",
       " ('A1DG', np.float64(38.0)),\n",
       " ('A1F2', np.float64(38.0)),\n",
       " ('A1GH', np.float64(38.0)),\n",
       " ('A1U', np.float64(38.0)),\n",
       " ('A2CD', np.float64(38.0)),\n",
       " ('AD', np.float64(38.0)),\n",
       " ('AGU', np.float64(38.0)),\n",
       " ('BCF1', np.float64(38.0)),\n",
       " ('BF1G', np.float64(38.0)),\n",
       " ('DF1G', np.float64(38.0)),\n",
       " ('F2O', np.float64(38.0)),\n",
       " ('02A3', np.float64(37.857142857142854)),\n",
       " ('J', np.float64(37.8)),\n",
       " ('46_BF1', np.float64(37.75)),\n",
       " ('118_BC', np.float64(37.75)),\n",
       " ('27_cpx', np.float64(37.666666666666664)),\n",
       " ('DG', np.float64(37.666666666666664)),\n",
       " ('111_01C', np.float64(37.57142857142857)),\n",
       " ('01B', np.float64(37.509803921568626)),\n",
       " ('A4', np.float64(37.5)),\n",
       " ('02A1G', np.float64(37.5)),\n",
       " ('A1A2C', np.float64(37.5)),\n",
       " ('F1F2', np.float64(37.5)),\n",
       " ('02A', np.float64(37.411764705882355)),\n",
       " ('F1', np.float64(37.355555555555554)),\n",
       " ('20_BG', np.float64(37.333333333333336)),\n",
       " ('133_A6B', np.float64(37.25)),\n",
       " ('U', np.float64(37.22222222222222)),\n",
       " ('02A1', np.float64(37.2)),\n",
       " ('A1CD', np.float64(37.1875)),\n",
       " ('29_BF1', np.float64(37.142857142857146)),\n",
       " ('11_cpx', np.float64(37.09090909090909)),\n",
       " ('14_BG', np.float64(37.0)),\n",
       " ('28_BF1', np.float64(37.0)),\n",
       " ('51_01B', np.float64(37.0)),\n",
       " ('91_cpx', np.float64(37.0)),\n",
       " ('116_0108', np.float64(37.0)),\n",
       " ('01A1A6', np.float64(37.0)),\n",
       " ('01F1G', np.float64(37.0)),\n",
       " ('0218', np.float64(37.0)),\n",
       " ('0263', np.float64(37.0)),\n",
       " ('02BG', np.float64(37.0)),\n",
       " ('02GK', np.float64(37.0)),\n",
       " ('22F2', np.float64(37.0)),\n",
       " ('A1G', np.float64(37.0)),\n",
       " ('AF2G', np.float64(37.0)),\n",
       " ('GK', np.float64(37.0)),\n",
       " ('02_AG', np.float64(36.922077922077925)),\n",
       " ('25_cpx', np.float64(36.833333333333336)),\n",
       " ('43_02G', np.float64(36.75)),\n",
       " ('01BC', np.float64(36.745098039215684)),\n",
       " ('02A1F2', np.float64(36.666666666666664)),\n",
       " ('56_cpx', np.float64(36.6)),\n",
       " ('66_BF1', np.float64(36.57142857142857)),\n",
       " ('73_BG', np.float64(36.5)),\n",
       " ('0107', np.float64(36.5)),\n",
       " ('02A6', np.float64(36.5)),\n",
       " ('02G', np.float64(36.4375)),\n",
       " ('63_02A6', np.float64(36.4)),\n",
       " ('0102A', np.float64(36.333333333333336)),\n",
       " ('CD', np.float64(36.18181818181818)),\n",
       " ('02F2', np.float64(36.166666666666664)),\n",
       " ('A1C', np.float64(36.04)),\n",
       " ('31_BC', np.float64(36.0)),\n",
       " ('34_01B', np.float64(36.0)),\n",
       " ('36_cpx', np.float64(36.0)),\n",
       " ('75_BF1', np.float64(36.0)),\n",
       " ('76_01B', np.float64(36.0)),\n",
       " ('87_cpx', np.float64(36.0)),\n",
       " ('99_BF1', np.float64(36.0)),\n",
       " ('104_0107', np.float64(36.0)),\n",
       " ('152_DG', np.float64(36.0)),\n",
       " ('0108', np.float64(36.0)),\n",
       " ('01BG', np.float64(36.0)),\n",
       " ('02F', np.float64(36.0)),\n",
       " ('02H', np.float64(36.0)),\n",
       " ('02O', np.float64(36.0)),\n",
       " ('0708', np.float64(36.0)),\n",
       " ('32A6', np.float64(36.0)),\n",
       " ('BCG', np.float64(36.0)),\n",
       " ('FK', np.float64(36.0)),\n",
       " ('02B', np.float64(35.916666666666664)),\n",
       " ('G', np.float64(35.81707317073171)),\n",
       " ('71_BF1', np.float64(35.666666666666664)),\n",
       " ('50B', np.float64(35.666666666666664)),\n",
       " ('A1BG', np.float64(35.666666666666664)),\n",
       " ('BG', np.float64(35.57142857142857)),\n",
       " ('62_BC', np.float64(35.5)),\n",
       " ('82_cpx', np.float64(35.5)),\n",
       " ('01A1G', np.float64(35.5)),\n",
       " ('65_cpx', np.float64(35.4)),\n",
       " ('72_BF1', np.float64(35.4)),\n",
       " ('70_BF1', np.float64(35.333333333333336)),\n",
       " ('95_02B', np.float64(35.333333333333336)),\n",
       " ('40_BF1', np.float64(35.25)),\n",
       " ('89_BF1', np.float64(35.25)),\n",
       " ('06_cpx', np.float64(35.2)),\n",
       " ('17_BF1', np.float64(35.142857142857146)),\n",
       " ('18_cpx', np.float64(35.142857142857146)),\n",
       " ('BF1', np.float64(35.125)),\n",
       " ('106_cpx', np.float64(35.111111111111114)),\n",
       " ('88_BC', np.float64(35.0)),\n",
       " ('94_cpx', np.float64(35.0)),\n",
       " ('98_06B', np.float64(35.0)),\n",
       " ('122_BF1', np.float64(35.0)),\n",
       " ('129_56G', np.float64(35.0)),\n",
       " ('01F2', np.float64(35.0)),\n",
       " ('02BD', np.float64(35.0)),\n",
       " ('02BF1', np.float64(35.0)),\n",
       " ('02U', np.float64(35.0)),\n",
       " ('06U', np.float64(35.0)),\n",
       " ('11A1', np.float64(35.0)),\n",
       " ('A1F1', np.float64(35.0)),\n",
       " ('A2G', np.float64(35.0)),\n",
       " ('BD', np.float64(35.0)),\n",
       " ('33_01B', np.float64(34.833333333333336)),\n",
       " ('60_BC', np.float64(34.75)),\n",
       " ('L', np.float64(34.666666666666664)),\n",
       " ('24_BG', np.float64(34.666666666666664)),\n",
       " ('44_BF1', np.float64(34.666666666666664)),\n",
       " ('96_cpx', np.float64(34.666666666666664)),\n",
       " ('110_BC', np.float64(34.666666666666664)),\n",
       " ('23_BG', np.float64(34.5)),\n",
       " ('37_cpx', np.float64(34.5)),\n",
       " ('49_cpx', np.float64(34.5)),\n",
       " ('107_01B', np.float64(34.5)),\n",
       " ('138_cpx', np.float64(34.5)),\n",
       " ('06G', np.float64(34.5)),\n",
       " ('57_BC', np.float64(34.42857142857143)),\n",
       " ('13_cpx', np.float64(34.4)),\n",
       " ('86_BC', np.float64(34.333333333333336)),\n",
       " ('146_BC', np.float64(34.333333333333336)),\n",
       " ('CF1', np.float64(34.333333333333336)),\n",
       " ('08_BC', np.float64(34.27272727272727)),\n",
       " ('64_BC', np.float64(34.142857142857146)),\n",
       " ('C', np.float64(34.12914691943128)),\n",
       " ('BC', np.float64(34.12162162162162)),\n",
       " ('04_cpx', np.float64(34.0)),\n",
       " ('85_BC', np.float64(34.0)),\n",
       " ('93_cpx', np.float64(34.0)),\n",
       " ('132_94B', np.float64(34.0)),\n",
       " ('140_0107', np.float64(34.0)),\n",
       " ('A1BD', np.float64(34.0)),\n",
       " ('A1GHU', np.float64(34.0)),\n",
       " ('A2C', np.float64(34.0)),\n",
       " ('AKU', np.float64(34.0)),\n",
       " ('90_BF1', np.float64(33.833333333333336)),\n",
       " ('141_BF1', np.float64(33.75)),\n",
       " ('74_01B', np.float64(33.666666666666664)),\n",
       " ('78_cpx', np.float64(33.666666666666664)),\n",
       " ('32_06A6', np.float64(33.5)),\n",
       " ('83_cpx', np.float64(33.5)),\n",
       " ('B', np.float64(33.445051194539246)),\n",
       " ('48_01B', np.float64(33.333333333333336)),\n",
       " ('117_0107', np.float64(33.333333333333336)),\n",
       " ('AC', np.float64(33.333333333333336)),\n",
       " ('47_BF1', np.float64(33.0)),\n",
       " ('61_BC', np.float64(33.0)),\n",
       " ('105_0108', np.float64(33.0)),\n",
       " ('121_0107', np.float64(33.0)),\n",
       " ('01F2G', np.float64(33.0)),\n",
       " ('02AG', np.float64(33.0)),\n",
       " ('14F1', np.float64(33.0)),\n",
       " ('A6G', np.float64(33.0)),\n",
       " ('CU', np.float64(33.0)),\n",
       " ('07_BC', np.float64(32.92857142857143)),\n",
       " ('0222', np.float64(32.666666666666664)),\n",
       " ('53_01B', np.float64(32.5)),\n",
       " ('A1B', np.float64(32.5)),\n",
       " ('58_01B', np.float64(32.2)),\n",
       " ('54_01B', np.float64(32.0)),\n",
       " ('124_cpx', np.float64(32.0)),\n",
       " ('02A6B', np.float64(32.0)),\n",
       " ('02C', np.float64(32.0)),\n",
       " ('07B', np.float64(32.0)),\n",
       " ('32G', np.float64(32.0)),\n",
       " ('AH', np.float64(32.0)),\n",
       " ('126_0755', np.float64(31.666666666666668)),\n",
       " ('77_cpx', np.float64(31.5)),\n",
       " ('97_01B', np.float64(31.333333333333332)),\n",
       " ('39_BF1', np.float64(31.0)),\n",
       " ('92_C2U', np.float64(31.0)),\n",
       " ('07C', np.float64(31.0)),\n",
       " ('69_01B', np.float64(30.8)),\n",
       " ('A1O', np.float64(28.333333333333332)),\n",
       " ('137_0107', np.float64(28.2)),\n",
       " ('N', np.float64(24.636363636363637)),\n",
       " ('DO', np.float64(23.0)),\n",
       " ('P', np.float64(22.0)),\n",
       " ('O', np.float64(21.163265306122447)),\n",
       " ('CPZ', np.float64(20.952380952380953)),\n",
       " ('GOR', np.float64(20.428571428571427)),\n",
       " ('UO', np.float64(19.0))]"
      ]
     },
     "execution_count": 197,
     "metadata": {},
     "output_type": "execute_result"
    }
   ],
   "source": [
    "sortdiffs"
   ]
  },
  {
   "cell_type": "code",
   "execution_count": 184,
   "id": "1a59dc13-9433-462d-8974-21d5817c3d2c",
   "metadata": {},
   "outputs": [
    {
     "name": "stdout",
     "output_type": "stream",
     "text": [
      "('B', np.float64(1.0))\n"
     ]
    }
   ],
   "source": [
    "from Bio import AlignIO\n",
    "from collections import defaultdict\n",
    "import numpy as np\n",
    "import sys\n",
    "#ip = sys.argv[1]\n",
    "ss = 'PQSRPEPSAPPAENFGMGEEI-TPSLKQEQKNREQPPSISLKSLFGNDPLSQ*'\n",
    "ssl = list(ss)\n",
    "\n",
    "msa = AlignIO.read('op.fasta', \"fasta\")\n",
    "\n",
    "groupdiffs = defaultdict(list)\n",
    "for rec in msa:\n",
    "    group = (rec.id).split('.')[0]\n",
    "    dist = [s==r for s,r in zip(ssl, list(str(val.seq)))]\n",
    "    groupdiffs[group].append(sum(dist))\n",
    "    \n",
    "avgdiffs = {g: np.mean(vals) for g, vals in groupdiffs.items()}\n",
    "sortdiffs = sorted(avgdiffs.items(), key=lambda x: x[1], reverse=True)\n",
    "print(sortdiffs[0])\n"
   ]
  },
  {
   "cell_type": "code",
   "execution_count": 185,
   "id": "669135fa-2129-486b-9ad5-46b017e2f72e",
   "metadata": {},
   "outputs": [
    {
     "data": {
      "text/plain": [
       "[('B', np.float64(1.0)),\n",
       " ('A', np.float64(1.0)),\n",
       " ('A1', np.float64(1.0)),\n",
       " ('A2', np.float64(1.0)),\n",
       " ('A3', np.float64(1.0)),\n",
       " ('A4', np.float64(1.0)),\n",
       " ('A6', np.float64(1.0)),\n",
       " ('A7', np.float64(1.0)),\n",
       " ('A8', np.float64(1.0)),\n",
       " ('C', np.float64(1.0)),\n",
       " ('D', np.float64(1.0)),\n",
       " ('F1', np.float64(1.0)),\n",
       " ('F2', np.float64(1.0)),\n",
       " ('G', np.float64(1.0)),\n",
       " ('H', np.float64(1.0)),\n",
       " ('J', np.float64(1.0)),\n",
       " ('K', np.float64(1.0)),\n",
       " ('L', np.float64(1.0)),\n",
       " ('01_AE', np.float64(1.0)),\n",
       " ('02_AG', np.float64(1.0)),\n",
       " ('03_A6B', np.float64(1.0)),\n",
       " ('04_cpx', np.float64(1.0)),\n",
       " ('05_DF', np.float64(1.0)),\n",
       " ('06_cpx', np.float64(1.0)),\n",
       " ('07_BC', np.float64(1.0)),\n",
       " ('08_BC', np.float64(1.0)),\n",
       " ('09_cpx', np.float64(1.0)),\n",
       " ('10_CD', np.float64(1.0)),\n",
       " ('11_cpx', np.float64(1.0)),\n",
       " ('12_BF', np.float64(1.0)),\n",
       " ('13_cpx', np.float64(1.0)),\n",
       " ('14_BG', np.float64(1.0)),\n",
       " ('15_01B', np.float64(1.0)),\n",
       " ('16_A2D', np.float64(1.0)),\n",
       " ('17_BF1', np.float64(1.0)),\n",
       " ('18_cpx', np.float64(1.0)),\n",
       " ('19_cpx', np.float64(1.0)),\n",
       " ('20_BG', np.float64(1.0)),\n",
       " ('21_A2D', np.float64(1.0)),\n",
       " ('22_01A1', np.float64(1.0)),\n",
       " ('23_BG', np.float64(1.0)),\n",
       " ('24_BG', np.float64(1.0)),\n",
       " ('25_cpx', np.float64(1.0)),\n",
       " ('26_A5U', np.float64(1.0)),\n",
       " ('27_cpx', np.float64(1.0)),\n",
       " ('28_BF1', np.float64(1.0)),\n",
       " ('29_BF1', np.float64(1.0)),\n",
       " ('31_BC', np.float64(1.0)),\n",
       " ('32_06A6', np.float64(1.0)),\n",
       " ('33_01B', np.float64(1.0)),\n",
       " ('34_01B', np.float64(1.0)),\n",
       " ('35_A1D', np.float64(1.0)),\n",
       " ('36_cpx', np.float64(1.0)),\n",
       " ('37_cpx', np.float64(1.0)),\n",
       " ('38_BF1', np.float64(1.0)),\n",
       " ('39_BF1', np.float64(1.0)),\n",
       " ('40_BF1', np.float64(1.0)),\n",
       " ('41_CD', np.float64(1.0)),\n",
       " ('42_BF1', np.float64(1.0)),\n",
       " ('43_02G', np.float64(1.0)),\n",
       " ('44_BF1', np.float64(1.0)),\n",
       " ('45_cpx', np.float64(1.0)),\n",
       " ('46_BF1', np.float64(1.0)),\n",
       " ('47_BF1', np.float64(1.0)),\n",
       " ('48_01B', np.float64(1.0)),\n",
       " ('49_cpx', np.float64(1.0)),\n",
       " ('50_A1D', np.float64(1.0)),\n",
       " ('51_01B', np.float64(1.0)),\n",
       " ('52_01B', np.float64(1.0)),\n",
       " ('53_01B', np.float64(1.0)),\n",
       " ('54_01B', np.float64(1.0)),\n",
       " ('55_01B', np.float64(1.0)),\n",
       " ('56_cpx', np.float64(1.0)),\n",
       " ('57_BC', np.float64(1.0)),\n",
       " ('58_01B', np.float64(1.0)),\n",
       " ('59_01B', np.float64(1.0)),\n",
       " ('60_BC', np.float64(1.0)),\n",
       " ('61_BC', np.float64(1.0)),\n",
       " ('62_BC', np.float64(1.0)),\n",
       " ('63_02A6', np.float64(1.0)),\n",
       " ('64_BC', np.float64(1.0)),\n",
       " ('65_cpx', np.float64(1.0)),\n",
       " ('66_BF1', np.float64(1.0)),\n",
       " ('67_01B', np.float64(1.0)),\n",
       " ('68_01B', np.float64(1.0)),\n",
       " ('69_01B', np.float64(1.0)),\n",
       " ('70_BF1', np.float64(1.0)),\n",
       " ('71_BF1', np.float64(1.0)),\n",
       " ('72_BF1', np.float64(1.0)),\n",
       " ('73_BG', np.float64(1.0)),\n",
       " ('74_01B', np.float64(1.0)),\n",
       " ('75_BF1', np.float64(1.0)),\n",
       " ('76_01B', np.float64(1.0)),\n",
       " ('77_cpx', np.float64(1.0)),\n",
       " ('78_cpx', np.float64(1.0)),\n",
       " ('79_0107', np.float64(1.0)),\n",
       " ('80_0107', np.float64(1.0)),\n",
       " ('81_cpx', np.float64(1.0)),\n",
       " ('82_cpx', np.float64(1.0)),\n",
       " ('83_cpx', np.float64(1.0)),\n",
       " ('84_A1D', np.float64(1.0)),\n",
       " ('85_BC', np.float64(1.0)),\n",
       " ('86_BC', np.float64(1.0)),\n",
       " ('87_cpx', np.float64(1.0)),\n",
       " ('88_BC', np.float64(1.0)),\n",
       " ('89_BF1', np.float64(1.0)),\n",
       " ('90_BF1', np.float64(1.0)),\n",
       " ('91_cpx', np.float64(1.0)),\n",
       " ('92_C2U', np.float64(1.0)),\n",
       " ('93_cpx', np.float64(1.0)),\n",
       " ('94_cpx', np.float64(1.0)),\n",
       " ('95_02B', np.float64(1.0)),\n",
       " ('96_cpx', np.float64(1.0)),\n",
       " ('97_01B', np.float64(1.0)),\n",
       " ('98_06B', np.float64(1.0)),\n",
       " ('99_BF1', np.float64(1.0)),\n",
       " ('100_01C', np.float64(1.0)),\n",
       " ('101_01B', np.float64(1.0)),\n",
       " ('102_0107', np.float64(1.0)),\n",
       " ('103_01B', np.float64(1.0)),\n",
       " ('104_0107', np.float64(1.0)),\n",
       " ('105_0108', np.float64(1.0)),\n",
       " ('106_cpx', np.float64(1.0)),\n",
       " ('107_01B', np.float64(1.0)),\n",
       " ('108_BC', np.float64(1.0)),\n",
       " ('110_BC', np.float64(1.0)),\n",
       " ('111_01C', np.float64(1.0)),\n",
       " ('112_01B', np.float64(1.0)),\n",
       " ('113_0107', np.float64(1.0)),\n",
       " ('114_0155', np.float64(1.0)),\n",
       " ('115_01C', np.float64(1.0)),\n",
       " ('116_0108', np.float64(1.0)),\n",
       " ('117_0107', np.float64(1.0)),\n",
       " ('118_BC', np.float64(1.0)),\n",
       " ('119_0107', np.float64(1.0)),\n",
       " ('121_0107', np.float64(1.0)),\n",
       " ('122_BF1', np.float64(1.0)),\n",
       " ('123_0107', np.float64(1.0)),\n",
       " ('124_cpx', np.float64(1.0)),\n",
       " ('125_0107', np.float64(1.0)),\n",
       " ('126_0755', np.float64(1.0)),\n",
       " ('129_56G', np.float64(1.0)),\n",
       " ('130_A1B', np.float64(1.0)),\n",
       " ('131_A1B', np.float64(1.0)),\n",
       " ('132_94B', np.float64(1.0)),\n",
       " ('133_A6B', np.float64(1.0)),\n",
       " ('137_0107', np.float64(1.0)),\n",
       " ('138_cpx', np.float64(1.0)),\n",
       " ('140_0107', np.float64(1.0)),\n",
       " ('141_BF1', np.float64(1.0)),\n",
       " ('146_BC', np.float64(1.0)),\n",
       " ('147_A6B', np.float64(1.0)),\n",
       " ('149_01B', np.float64(1.0)),\n",
       " ('152_DG', np.float64(1.0)),\n",
       " ('0102', np.float64(1.0)),\n",
       " ('0102A', np.float64(1.0)),\n",
       " ('0102A1', np.float64(1.0)),\n",
       " ('0107', np.float64(1.0)),\n",
       " ('0108', np.float64(1.0)),\n",
       " ('01A1', np.float64(1.0)),\n",
       " ('01A1A6', np.float64(1.0)),\n",
       " ('01A1G', np.float64(1.0)),\n",
       " ('01ADF2', np.float64(1.0)),\n",
       " ('01B', np.float64(1.0)),\n",
       " ('01BC', np.float64(1.0)),\n",
       " ('01BG', np.float64(1.0)),\n",
       " ('01C', np.float64(1.0)),\n",
       " ('01D', np.float64(1.0)),\n",
       " ('01F1G', np.float64(1.0)),\n",
       " ('01F2', np.float64(1.0)),\n",
       " ('01F2G', np.float64(1.0)),\n",
       " ('01G', np.float64(1.0)),\n",
       " ('0206', np.float64(1.0)),\n",
       " ('0209', np.float64(1.0)),\n",
       " ('0213', np.float64(1.0)),\n",
       " ('0218', np.float64(1.0)),\n",
       " ('0222', np.float64(1.0)),\n",
       " ('0263', np.float64(1.0)),\n",
       " ('02A', np.float64(1.0)),\n",
       " ('02A1', np.float64(1.0)),\n",
       " ('02A1F2', np.float64(1.0)),\n",
       " ('02A1G', np.float64(1.0)),\n",
       " ('02A3', np.float64(1.0)),\n",
       " ('02A6', np.float64(1.0)),\n",
       " ('02A6B', np.float64(1.0)),\n",
       " ('02AG', np.float64(1.0)),\n",
       " ('02B', np.float64(1.0)),\n",
       " ('02BD', np.float64(1.0)),\n",
       " ('02BF1', np.float64(1.0)),\n",
       " ('02BG', np.float64(1.0)),\n",
       " ('02C', np.float64(1.0)),\n",
       " ('02D', np.float64(1.0)),\n",
       " ('02F', np.float64(1.0)),\n",
       " ('02F2', np.float64(1.0)),\n",
       " ('02F2G', np.float64(1.0)),\n",
       " ('02F2U', np.float64(1.0)),\n",
       " ('02G', np.float64(1.0)),\n",
       " ('02GK', np.float64(1.0)),\n",
       " ('02H', np.float64(1.0)),\n",
       " ('02O', np.float64(1.0)),\n",
       " ('02U', np.float64(1.0)),\n",
       " ('06A1', np.float64(1.0)),\n",
       " ('06G', np.float64(1.0)),\n",
       " ('06U', np.float64(1.0)),\n",
       " ('0708', np.float64(1.0)),\n",
       " ('07B', np.float64(1.0)),\n",
       " ('07C', np.float64(1.0)),\n",
       " ('11A1', np.float64(1.0)),\n",
       " ('14F1', np.float64(1.0)),\n",
       " ('1819', np.float64(1.0)),\n",
       " ('22A1U', np.float64(1.0)),\n",
       " ('22DU', np.float64(1.0)),\n",
       " ('22F2', np.float64(1.0)),\n",
       " ('26C', np.float64(1.0)),\n",
       " ('32A6', np.float64(1.0)),\n",
       " ('32G', np.float64(1.0)),\n",
       " ('50B', np.float64(1.0)),\n",
       " ('63A6', np.float64(1.0)),\n",
       " ('A1A2', np.float64(1.0)),\n",
       " ('A1A2C', np.float64(1.0)),\n",
       " ('A1A2CD', np.float64(1.0)),\n",
       " ('A1A2D', np.float64(1.0)),\n",
       " ('A1B', np.float64(1.0)),\n",
       " ('A1BD', np.float64(1.0)),\n",
       " ('A1BG', np.float64(1.0)),\n",
       " ('A1C', np.float64(1.0)),\n",
       " ('A1CD', np.float64(1.0)),\n",
       " ('A1CDG', np.float64(1.0)),\n",
       " ('A1CG', np.float64(1.0)),\n",
       " ('A1D', np.float64(1.0)),\n",
       " ('A1DG', np.float64(1.0)),\n",
       " ('A1DHK', np.float64(1.0)),\n",
       " ('A1DK', np.float64(1.0)),\n",
       " ('A1F1', np.float64(1.0)),\n",
       " ('A1F2', np.float64(1.0)),\n",
       " ('A1G', np.float64(1.0)),\n",
       " ('A1GH', np.float64(1.0)),\n",
       " ('A1GHU', np.float64(1.0)),\n",
       " ('A1H', np.float64(1.0)),\n",
       " ('A1K', np.float64(1.0)),\n",
       " ('A1O', np.float64(1.0)),\n",
       " ('A1U', np.float64(1.0)),\n",
       " ('A2C', np.float64(1.0)),\n",
       " ('A2CD', np.float64(1.0)),\n",
       " ('A2G', np.float64(1.0)),\n",
       " ('A3F2', np.float64(1.0)),\n",
       " ('A6B', np.float64(1.0)),\n",
       " ('A6G', np.float64(1.0)),\n",
       " ('AB', np.float64(1.0)),\n",
       " ('AC', np.float64(1.0)),\n",
       " ('ACD', np.float64(1.0)),\n",
       " ('AD', np.float64(1.0)),\n",
       " ('ADU', np.float64(1.0)),\n",
       " ('AF2', np.float64(1.0)),\n",
       " ('AF2G', np.float64(1.0)),\n",
       " ('AGU', np.float64(1.0)),\n",
       " ('AH', np.float64(1.0)),\n",
       " ('AHJU', np.float64(1.0)),\n",
       " ('AJ', np.float64(1.0)),\n",
       " ('AKU', np.float64(1.0)),\n",
       " ('AU', np.float64(1.0)),\n",
       " ('BC', np.float64(1.0)),\n",
       " ('BCF1', np.float64(1.0)),\n",
       " ('BCG', np.float64(1.0)),\n",
       " ('BD', np.float64(1.0)),\n",
       " ('BF1', np.float64(1.0)),\n",
       " ('BF1G', np.float64(1.0)),\n",
       " ('BG', np.float64(1.0)),\n",
       " ('CD', np.float64(1.0)),\n",
       " ('CF1', np.float64(1.0)),\n",
       " ('CU', np.float64(1.0)),\n",
       " ('DF1', np.float64(1.0)),\n",
       " ('DF1G', np.float64(1.0)),\n",
       " ('DG', np.float64(1.0)),\n",
       " ('DJ', np.float64(1.0)),\n",
       " ('DO', np.float64(1.0)),\n",
       " ('F1F2', np.float64(1.0)),\n",
       " ('F2O', np.float64(1.0)),\n",
       " ('FK', np.float64(1.0)),\n",
       " ('GK', np.float64(1.0)),\n",
       " ('UO', np.float64(1.0)),\n",
       " ('U', np.float64(1.0)),\n",
       " ('O', np.float64(1.0)),\n",
       " ('N', np.float64(1.0)),\n",
       " ('P', np.float64(1.0)),\n",
       " ('CPZ', np.float64(1.0)),\n",
       " ('GOR', np.float64(1.0))]"
      ]
     },
     "execution_count": 185,
     "metadata": {},
     "output_type": "execute_result"
    }
   ],
   "source": [
    "sortdiffs"
   ]
  }
 ],
 "metadata": {
  "kernelspec": {
   "display_name": "Python 3 (ipykernel)",
   "language": "python",
   "name": "python3"
  },
  "language_info": {
   "codemirror_mode": {
    "name": "ipython",
    "version": 3
   },
   "file_extension": ".py",
   "mimetype": "text/x-python",
   "name": "python",
   "nbconvert_exporter": "python",
   "pygments_lexer": "ipython3",
   "version": "3.13.7"
  }
 },
 "nbformat": 4,
 "nbformat_minor": 5
}
